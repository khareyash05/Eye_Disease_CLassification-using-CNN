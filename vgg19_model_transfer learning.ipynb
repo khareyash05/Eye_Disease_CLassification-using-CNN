{
 "cells": [
  {
   "cell_type": "code",
   "execution_count": 1,
   "metadata": {},
   "outputs": [
    {
     "name": "stderr",
     "output_type": "stream",
     "text": [
      "Using TensorFlow backend.\n"
     ]
    }
   ],
   "source": [
    "#import libraries\n",
    "import keras\n",
    "import numpy as np\n",
    "from keras.models import Sequential,Model\n",
    "from keras.layers import Conv2D,MaxPooling2D\n",
    "from keras.layers import Activation, Dense, Flatten, Dropout\n",
    "from keras.preprocessing.image import ImageDataGenerator\n",
    "from keras.callbacks import ModelCheckpoint\n",
    "from keras import backend as K\n",
    "from keras.optimizers import Adam,RMSprop"
   ]
  },
  {
   "cell_type": "code",
   "execution_count": 2,
   "metadata": {},
   "outputs": [],
   "source": [
    "path='D:/Datasets/Image dataset/eye disease/eye-disease-dataset/'\n"
   ]
  },
  {
   "cell_type": "code",
   "execution_count": 3,
   "metadata": {},
   "outputs": [],
   "source": [
    "#size of images to feed in neural network\n",
    "image_shape = (100,100,3) \n",
    "#data augmentation\n",
    "\n",
    "datagen = ImageDataGenerator(rotation_range=30, # rotate the image 30 degrees\n",
    "                               width_shift_range=0.1, # Shift the pic width by a max of 10%\n",
    "                               height_shift_range=0.1, # Shift the pic height by a max of 10%\n",
    "                               rescale=1/255, # Rescale the image by normalzing it.\n",
    "                               shear_range=0.2, # Shear means cutting away part of the image (max 20%)\n",
    "                               zoom_range=0.2, # Zoom in by 20% max\n",
    "                               horizontal_flip=True, # Allo horizontal flipping\n",
    "                               vertical_flip=True,\n",
    "                               fill_mode='nearest',# Fill in missing pixels with the nearest filled value\n",
    "                               validation_split=0.2#split data to train and test\n",
    "                              )"
   ]
  },
  {
   "cell_type": "code",
   "execution_count": 4,
   "metadata": {},
   "outputs": [
    {
     "name": "stdout",
     "output_type": "stream",
     "text": [
      "Found 726 images belonging to 5 classes.\n"
     ]
    }
   ],
   "source": [
    "#load the training data\n",
    "train_generator = datagen.flow_from_directory(\n",
    "    path+'Cropped_Images/',\n",
    "    target_size=image_shape[0:2],\n",
    "    batch_size=30,\n",
    "    class_mode='categorical',\n",
    "    subset='training')"
   ]
  },
  {
   "cell_type": "code",
   "execution_count": 5,
   "metadata": {},
   "outputs": [
    {
     "name": "stdout",
     "output_type": "stream",
     "text": [
      "Found 180 images belonging to 5 classes.\n"
     ]
    }
   ],
   "source": [
    "#load the test data\n",
    "test_generator = datagen.flow_from_directory(\n",
    "    path+'Cropped_Images/',\n",
    "    target_size=image_shape[0:2],\n",
    "    batch_size=30,\n",
    "    class_mode='categorical',\n",
    "    subset='validation')\n"
   ]
  },
  {
   "cell_type": "code",
   "execution_count": 6,
   "metadata": {},
   "outputs": [
    {
     "name": "stdout",
     "output_type": "stream",
     "text": [
      "WARNING:tensorflow:From C:\\Anaconda3\\envs\\deep\\lib\\site-packages\\keras\\backend\\tensorflow_backend.py:74: The name tf.get_default_graph is deprecated. Please use tf.compat.v1.get_default_graph instead.\n",
      "\n",
      "WARNING:tensorflow:From C:\\Anaconda3\\envs\\deep\\lib\\site-packages\\keras\\backend\\tensorflow_backend.py:517: The name tf.placeholder is deprecated. Please use tf.compat.v1.placeholder instead.\n",
      "\n",
      "WARNING:tensorflow:From C:\\Anaconda3\\envs\\deep\\lib\\site-packages\\keras\\backend\\tensorflow_backend.py:4138: The name tf.random_uniform is deprecated. Please use tf.random.uniform instead.\n",
      "\n",
      "WARNING:tensorflow:From C:\\Anaconda3\\envs\\deep\\lib\\site-packages\\keras\\backend\\tensorflow_backend.py:3976: The name tf.nn.max_pool is deprecated. Please use tf.nn.max_pool2d instead.\n",
      "\n",
      "WARNING:tensorflow:From C:\\Anaconda3\\envs\\deep\\lib\\site-packages\\keras\\backend\\tensorflow_backend.py:174: The name tf.get_default_session is deprecated. Please use tf.compat.v1.get_default_session instead.\n",
      "\n",
      "WARNING:tensorflow:From C:\\Anaconda3\\envs\\deep\\lib\\site-packages\\keras\\backend\\tensorflow_backend.py:181: The name tf.ConfigProto is deprecated. Please use tf.compat.v1.ConfigProto instead.\n",
      "\n"
     ]
    }
   ],
   "source": [
    "from keras.applications.vgg19 import VGG19\n",
    "model =VGG19(weights = \"imagenet\", include_top=False, input_shape = image_shape)\n",
    "#model.layers"
   ]
  },
  {
   "cell_type": "code",
   "execution_count": 7,
   "metadata": {},
   "outputs": [
    {
     "name": "stdout",
     "output_type": "stream",
     "text": [
      "_________________________________________________________________\n",
      "Layer (type)                 Output Shape              Param #   \n",
      "=================================================================\n",
      "input_1 (InputLayer)         (None, 100, 100, 3)       0         \n",
      "_________________________________________________________________\n",
      "block1_conv1 (Conv2D)        (None, 100, 100, 64)      1792      \n",
      "_________________________________________________________________\n",
      "block1_conv2 (Conv2D)        (None, 100, 100, 64)      36928     \n",
      "_________________________________________________________________\n",
      "block1_pool (MaxPooling2D)   (None, 50, 50, 64)        0         \n",
      "_________________________________________________________________\n",
      "block2_conv1 (Conv2D)        (None, 50, 50, 128)       73856     \n",
      "_________________________________________________________________\n",
      "block2_conv2 (Conv2D)        (None, 50, 50, 128)       147584    \n",
      "_________________________________________________________________\n",
      "block2_pool (MaxPooling2D)   (None, 25, 25, 128)       0         \n",
      "_________________________________________________________________\n",
      "block3_conv1 (Conv2D)        (None, 25, 25, 256)       295168    \n",
      "_________________________________________________________________\n",
      "block3_conv2 (Conv2D)        (None, 25, 25, 256)       590080    \n",
      "_________________________________________________________________\n",
      "block3_conv3 (Conv2D)        (None, 25, 25, 256)       590080    \n",
      "_________________________________________________________________\n",
      "block3_conv4 (Conv2D)        (None, 25, 25, 256)       590080    \n",
      "_________________________________________________________________\n",
      "block3_pool (MaxPooling2D)   (None, 12, 12, 256)       0         \n",
      "_________________________________________________________________\n",
      "block4_conv1 (Conv2D)        (None, 12, 12, 512)       1180160   \n",
      "_________________________________________________________________\n",
      "block4_conv2 (Conv2D)        (None, 12, 12, 512)       2359808   \n",
      "_________________________________________________________________\n",
      "block4_conv3 (Conv2D)        (None, 12, 12, 512)       2359808   \n",
      "_________________________________________________________________\n",
      "block4_conv4 (Conv2D)        (None, 12, 12, 512)       2359808   \n",
      "_________________________________________________________________\n",
      "block4_pool (MaxPooling2D)   (None, 6, 6, 512)         0         \n",
      "_________________________________________________________________\n",
      "block5_conv1 (Conv2D)        (None, 6, 6, 512)         2359808   \n",
      "_________________________________________________________________\n",
      "block5_conv2 (Conv2D)        (None, 6, 6, 512)         2359808   \n",
      "_________________________________________________________________\n",
      "block5_conv3 (Conv2D)        (None, 6, 6, 512)         2359808   \n",
      "_________________________________________________________________\n",
      "block5_conv4 (Conv2D)        (None, 6, 6, 512)         2359808   \n",
      "_________________________________________________________________\n",
      "block5_pool (MaxPooling2D)   (None, 3, 3, 512)         0         \n",
      "=================================================================\n",
      "Total params: 20,024,384\n",
      "Trainable params: 20,024,384\n",
      "Non-trainable params: 0\n",
      "_________________________________________________________________\n"
     ]
    }
   ],
   "source": [
    "model.summary()"
   ]
  },
  {
   "cell_type": "code",
   "execution_count": 8,
   "metadata": {},
   "outputs": [],
   "source": [
    "for layer in model.layers:\n",
    "    layer.trainable = False\n",
    "\n",
    "#Adding custom Layers \n",
    "x = model.output\n",
    "#x=Conv2D(filters = 64,kernel_size = 5,activation='relu',padding='same')(x)\n",
    "x = Flatten()(x)\n",
    "x = Dense(512, activation=\"relu\")(x)\n",
    "x = Dense(256, activation=\"relu\")(x)\n",
    "predictions = Dense(5, activation=\"softmax\")(x)"
   ]
  },
  {
   "cell_type": "code",
   "execution_count": 9,
   "metadata": {},
   "outputs": [],
   "source": [
    "model = Model(inputs=model.input, outputs=predictions)"
   ]
  },
  {
   "cell_type": "code",
   "execution_count": 10,
   "metadata": {},
   "outputs": [
    {
     "name": "stdout",
     "output_type": "stream",
     "text": [
      "_________________________________________________________________\n",
      "Layer (type)                 Output Shape              Param #   \n",
      "=================================================================\n",
      "input_1 (InputLayer)         (None, 100, 100, 3)       0         \n",
      "_________________________________________________________________\n",
      "block1_conv1 (Conv2D)        (None, 100, 100, 64)      1792      \n",
      "_________________________________________________________________\n",
      "block1_conv2 (Conv2D)        (None, 100, 100, 64)      36928     \n",
      "_________________________________________________________________\n",
      "block1_pool (MaxPooling2D)   (None, 50, 50, 64)        0         \n",
      "_________________________________________________________________\n",
      "block2_conv1 (Conv2D)        (None, 50, 50, 128)       73856     \n",
      "_________________________________________________________________\n",
      "block2_conv2 (Conv2D)        (None, 50, 50, 128)       147584    \n",
      "_________________________________________________________________\n",
      "block2_pool (MaxPooling2D)   (None, 25, 25, 128)       0         \n",
      "_________________________________________________________________\n",
      "block3_conv1 (Conv2D)        (None, 25, 25, 256)       295168    \n",
      "_________________________________________________________________\n",
      "block3_conv2 (Conv2D)        (None, 25, 25, 256)       590080    \n",
      "_________________________________________________________________\n",
      "block3_conv3 (Conv2D)        (None, 25, 25, 256)       590080    \n",
      "_________________________________________________________________\n",
      "block3_conv4 (Conv2D)        (None, 25, 25, 256)       590080    \n",
      "_________________________________________________________________\n",
      "block3_pool (MaxPooling2D)   (None, 12, 12, 256)       0         \n",
      "_________________________________________________________________\n",
      "block4_conv1 (Conv2D)        (None, 12, 12, 512)       1180160   \n",
      "_________________________________________________________________\n",
      "block4_conv2 (Conv2D)        (None, 12, 12, 512)       2359808   \n",
      "_________________________________________________________________\n",
      "block4_conv3 (Conv2D)        (None, 12, 12, 512)       2359808   \n",
      "_________________________________________________________________\n",
      "block4_conv4 (Conv2D)        (None, 12, 12, 512)       2359808   \n",
      "_________________________________________________________________\n",
      "block4_pool (MaxPooling2D)   (None, 6, 6, 512)         0         \n",
      "_________________________________________________________________\n",
      "block5_conv1 (Conv2D)        (None, 6, 6, 512)         2359808   \n",
      "_________________________________________________________________\n",
      "block5_conv2 (Conv2D)        (None, 6, 6, 512)         2359808   \n",
      "_________________________________________________________________\n",
      "block5_conv3 (Conv2D)        (None, 6, 6, 512)         2359808   \n",
      "_________________________________________________________________\n",
      "block5_conv4 (Conv2D)        (None, 6, 6, 512)         2359808   \n",
      "_________________________________________________________________\n",
      "block5_pool (MaxPooling2D)   (None, 3, 3, 512)         0         \n",
      "_________________________________________________________________\n",
      "flatten_1 (Flatten)          (None, 4608)              0         \n",
      "_________________________________________________________________\n",
      "dense_1 (Dense)              (None, 512)               2359808   \n",
      "_________________________________________________________________\n",
      "dense_2 (Dense)              (None, 256)               131328    \n",
      "_________________________________________________________________\n",
      "dense_3 (Dense)              (None, 5)                 1285      \n",
      "=================================================================\n",
      "Total params: 22,516,805\n",
      "Trainable params: 2,492,421\n",
      "Non-trainable params: 20,024,384\n",
      "_________________________________________________________________\n"
     ]
    }
   ],
   "source": [
    "model.summary()"
   ]
  },
  {
   "cell_type": "code",
   "execution_count": 11,
   "metadata": {},
   "outputs": [
    {
     "name": "stdout",
     "output_type": "stream",
     "text": [
      "WARNING:tensorflow:From C:\\Anaconda3\\envs\\deep\\lib\\site-packages\\keras\\optimizers.py:790: The name tf.train.Optimizer is deprecated. Please use tf.compat.v1.train.Optimizer instead.\n",
      "\n"
     ]
    }
   ],
   "source": [
    "#compile the model\n",
    "opt = Adam(lr=0.0001)\n",
    "model.compile(optimizer=opt, loss='categorical_crossentropy', metrics=['accuracy'])\n"
   ]
  },
  {
   "cell_type": "code",
   "execution_count": 12,
   "metadata": {},
   "outputs": [],
   "source": [
    "#create class weights for unbalance dataset\n",
    "from sklearn.utils import class_weight\n",
    "y_train=train_generator.classes\n",
    "class_weights = class_weight.compute_class_weight('balanced',np.unique(y_train),y_train)\n",
    "class_weights=dict(enumerate(class_weights))\n"
   ]
  },
  {
   "cell_type": "code",
   "execution_count": 13,
   "metadata": {},
   "outputs": [],
   "source": [
    "es=keras.callbacks.EarlyStopping(monitor='val_loss',mode='min',patience=5)"
   ]
  },
  {
   "cell_type": "code",
   "execution_count": 14,
   "metadata": {},
   "outputs": [
    {
     "name": "stdout",
     "output_type": "stream",
     "text": [
      "WARNING:tensorflow:From C:\\Anaconda3\\envs\\deep\\lib\\site-packages\\tensorflow\\python\\ops\\math_grad.py:1250: add_dispatch_support.<locals>.wrapper (from tensorflow.python.ops.array_ops) is deprecated and will be removed in a future version.\n",
      "Instructions for updating:\n",
      "Use tf.where in 2.0, which has the same broadcast rule as np.where\n",
      "Epoch 1/40\n",
      "30/30 [==============================] - 7s 217ms/step - loss: 1.6202 - acc: 0.2477 - val_loss: 1.3952 - val_acc: 0.5467\n",
      "Epoch 2/40\n",
      "30/30 [==============================] - 4s 133ms/step - loss: 1.4408 - acc: 0.3944 - val_loss: 1.3800 - val_acc: 0.4056\n",
      "Epoch 3/40\n",
      "30/30 [==============================] - 4s 135ms/step - loss: 1.3425 - acc: 0.4358 - val_loss: 1.2678 - val_acc: 0.4544\n",
      "Epoch 4/40\n",
      "30/30 [==============================] - 4s 135ms/step - loss: 1.3476 - acc: 0.4377 - val_loss: 1.4397 - val_acc: 0.4122\n",
      "Epoch 5/40\n",
      "30/30 [==============================] - 4s 134ms/step - loss: 1.3230 - acc: 0.4477 - val_loss: 1.3331 - val_acc: 0.4378\n",
      "Epoch 6/40\n",
      "30/30 [==============================] - 4s 133ms/step - loss: 1.2503 - acc: 0.4801 - val_loss: 1.3475 - val_acc: 0.4300\n",
      "Epoch 7/40\n",
      "30/30 [==============================] - 4s 133ms/step - loss: 1.2035 - acc: 0.5235 - val_loss: 1.2447 - val_acc: 0.4656\n",
      "Epoch 8/40\n",
      "30/30 [==============================] - 4s 133ms/step - loss: 1.1853 - acc: 0.4868 - val_loss: 1.3035 - val_acc: 0.4756\n",
      "Epoch 9/40\n",
      "30/30 [==============================] - 4s 136ms/step - loss: 1.0678 - acc: 0.5610 - val_loss: 1.2384 - val_acc: 0.4522\n",
      "Epoch 10/40\n",
      "30/30 [==============================] - 4s 132ms/step - loss: 1.1084 - acc: 0.5490 - val_loss: 1.2046 - val_acc: 0.5256\n",
      "Epoch 11/40\n",
      "30/30 [==============================] - 4s 133ms/step - loss: 1.1393 - acc: 0.5268 - val_loss: 1.2569 - val_acc: 0.4967\n",
      "Epoch 12/40\n",
      "30/30 [==============================] - 4s 133ms/step - loss: 1.1045 - acc: 0.5268 - val_loss: 1.1963 - val_acc: 0.5011\n",
      "Epoch 13/40\n",
      "30/30 [==============================] - 4s 135ms/step - loss: 1.0445 - acc: 0.5999 - val_loss: 1.2589 - val_acc: 0.4622\n",
      "Epoch 14/40\n",
      "30/30 [==============================] - 4s 134ms/step - loss: 0.9824 - acc: 0.5955 - val_loss: 1.3815 - val_acc: 0.4556\n",
      "Epoch 15/40\n",
      "30/30 [==============================] - 4s 133ms/step - loss: 1.0576 - acc: 0.5436 - val_loss: 1.1822 - val_acc: 0.4811\n",
      "Epoch 16/40\n",
      "30/30 [==============================] - 4s 137ms/step - loss: 0.9840 - acc: 0.5720 - val_loss: 1.2605 - val_acc: 0.4911\n",
      "Epoch 17/40\n",
      "30/30 [==============================] - 4s 142ms/step - loss: 1.0364 - acc: 0.5591 - val_loss: 1.1494 - val_acc: 0.5567\n",
      "Epoch 18/40\n",
      "30/30 [==============================] - 4s 139ms/step - loss: 0.9067 - acc: 0.6487 - val_loss: 1.2520 - val_acc: 0.5067\n",
      "Epoch 19/40\n",
      "30/30 [==============================] - 4s 137ms/step - loss: 0.9067 - acc: 0.6276 - val_loss: 1.2116 - val_acc: 0.5222\n",
      "Epoch 20/40\n",
      "30/30 [==============================] - 4s 138ms/step - loss: 0.9180 - acc: 0.6244 - val_loss: 1.2546 - val_acc: 0.5022\n",
      "Epoch 21/40\n",
      "30/30 [==============================] - 4s 142ms/step - loss: 0.9807 - acc: 0.5998 - val_loss: 1.3672 - val_acc: 0.4811\n",
      "Epoch 22/40\n",
      "30/30 [==============================] - 4s 142ms/step - loss: 0.8523 - acc: 0.6554 - val_loss: 1.2149 - val_acc: 0.5178\n"
     ]
    }
   ],
   "source": [
    "#train model\n",
    "results = model.fit_generator(train_generator,epochs=40,\n",
    "                              steps_per_epoch=30,\n",
    "                              validation_data=test_generator,\n",
    "                             validation_steps=30,\n",
    "                              callbacks=[es],\n",
    "                             class_weight=class_weights)\n"
   ]
  },
  {
   "cell_type": "code",
   "execution_count": 15,
   "metadata": {},
   "outputs": [
    {
     "name": "stdout",
     "output_type": "stream",
     "text": [
      "              precision    recall  f1-score   support\n",
      "\n",
      "Bulging_Eyes       0.30      0.33      0.31        43\n",
      "   Cataracts       0.15      0.18      0.17        11\n",
      "Crossed_Eyes       0.54      0.35      0.43        88\n",
      "    Glaucoma       0.18      0.14      0.15        22\n",
      "     Uveitis       0.11      0.31      0.16        16\n",
      "\n",
      "    accuracy                           0.31       180\n",
      "   macro avg       0.26      0.26      0.24       180\n",
      "weighted avg       0.38      0.31      0.33       180\n",
      "\n"
     ]
    }
   ],
   "source": [
    "#print classification report\n",
    "y_true=test_generator.classes\n",
    "class_label=list(train_generator.class_indices.keys())\n",
    "from sklearn.metrics import classification_report\n",
    "y_pred = model.predict_generator(test_generator,steps=180/30) #186 are total example in test set and 40 is batch size\n",
    "y_pred = np.argmax(y_pred, axis=1)\n",
    "print(classification_report(y_true, y_pred,target_names=class_label))\n"
   ]
  },
  {
   "cell_type": "code",
   "execution_count": 16,
   "metadata": {},
   "outputs": [],
   "source": [
    "K.clear_session()"
   ]
  },
  {
   "cell_type": "code",
   "execution_count": null,
   "metadata": {},
   "outputs": [],
   "source": []
  }
 ],
 "metadata": {
  "kernelspec": {
   "display_name": "Python 3",
   "language": "python",
   "name": "python3"
  },
  "language_info": {
   "codemirror_mode": {
    "name": "ipython",
    "version": 3
   },
   "file_extension": ".py",
   "mimetype": "text/x-python",
   "name": "python",
   "nbconvert_exporter": "python",
   "pygments_lexer": "ipython3",
   "version": "3.7.4"
  }
 },
 "nbformat": 4,
 "nbformat_minor": 2
}
